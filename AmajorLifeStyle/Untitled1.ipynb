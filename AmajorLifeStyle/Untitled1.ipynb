{
 "cells": [
  {
   "cell_type": "code",
   "execution_count": null,
   "metadata": {},
   "outputs": [],
   "source": [
    "from bs4 import BeautifulSoup as bs\n",
    "from splinter import Browser\n",
    "import pandas as pd\n",
    "from copy import deepcopy\n",
    "import os"
   ]
  },
  {
   "cell_type": "code",
   "execution_count": null,
   "metadata": {},
   "outputs": [],
   "source": [
    "apartment_url = 'https://mentalfloss.com/article/81296/average-cost-one-bedroom-apartments-50-major-us-cities'\n",
    "count=0\n",
    "Apartment_df = pd.DataFrame()\n",
    "apartmentlist=[]\n",
    "browser.visit(apartment_url)\n",
    "apartm = browser.html\n",
    "apartm_soup = bs(apartm, 'html.parser')\n",
    "table = apartm_soup.find('tbody')\n",
    "for info in table.find_all('tr'):\n",
    "    values=info.text\n",
    "    apartmentlist.append(values)\n",
    "\n",
    "ApartmentInfo=Apartment_df.append(apartmentlist)\n",
    "ApartmentInfo = pd.DataFrame(ApartmentInfo)\n",
    "ApartmentInfo.head()"
   ]
  },
  {
   "cell_type": "code",
   "execution_count": null,
   "metadata": {},
   "outputs": [],
   "source": [
    "new = ApartmentInfo[0].str.split(\"\\n\", n = 3, expand = True)\n",
    "Apt_df = new[[1,2]]\n",
    "Apt_df.head()"
   ]
  },
  {
   "cell_type": "markdown",
   "metadata": {},
   "source": [
    "From original DF(Apt_df), split Index1 by ',' into two columns and name it (Apt1_df). From apt_df, we split column 1(index1) at the comma so that the city and state are 2 different columns. Then we put the state and city into 2 different columns within a new dataframe. Then we pick column 2(index2) from the Apt_df and assign it to column2(index2) in the new dataframe. So, now we have a total of 3 columns in the new dataframe."
   ]
  },
  {
   "cell_type": "code",
   "execution_count": null,
   "metadata": {},
   "outputs": [],
   "source": [
    "new_df = Apt_df[1].str.split(\",\", n=1, expand=True)\n",
    "new_df[2] = Apt_df[2]\n",
    "new_df[2] = Apt_df[2].str.replace(\"$\",\"\")\n",
    "new_df.columns=['CITY', 'STATE', '1BEDROOM']\n",
    "new_df.head()"
   ]
  },
  {
   "cell_type": "code",
   "execution_count": null,
   "metadata": {},
   "outputs": [],
   "source": [
    "new_df.to_csv('OnebedroomApt.csv')"
   ]
  },
  {
   "cell_type": "code",
   "execution_count": null,
   "metadata": {},
   "outputs": [],
   "source": [
    "CollegebyState = pd.read_csv('UScollegesUniversitiesByState.csv')"
   ]
  },
  {
   "cell_type": "code",
   "execution_count": null,
   "metadata": {},
   "outputs": [],
   "source": [
    "collegeLoca = pd.DataFrame(CollegeLocation)\n",
    "collegeLoca.head()\n"
   ]
  },
  {
   "cell_type": "code",
   "execution_count": null,
   "metadata": {},
   "outputs": [],
   "source": []
  }
 ],
 "metadata": {
  "kernelspec": {
   "display_name": "Python 3",
   "language": "python",
   "name": "python3"
  },
  "language_info": {
   "codemirror_mode": {
    "name": "ipython",
    "version": 3
   },
   "file_extension": ".py",
   "mimetype": "text/x-python",
   "name": "python",
   "nbconvert_exporter": "python",
   "pygments_lexer": "ipython3",
   "version": "3.7.4"
  }
 },
 "nbformat": 4,
 "nbformat_minor": 2
}
