{
 "cells": [
  {
   "cell_type": "code",
   "execution_count": 1,
   "metadata": {},
   "outputs": [],
   "source": [
    "import pandas as pd\n",
    "from numpy import reshape"
   ]
  },
  {
   "cell_type": "code",
   "execution_count": 2,
   "metadata": {},
   "outputs": [
    {
     "data": {
      "text/plain": [
       "(19, 9)"
      ]
     },
     "execution_count": 2,
     "metadata": {},
     "output_type": "execute_result"
    }
   ],
   "source": [
    "south_md_west_csv = \"southern_and_west.csv\"\n",
    "df = pd.read_csv(south_md_west_csv, encoding=\"ISO-8859-1\")\n",
    "df.shape"
   ]
  },
  {
   "cell_type": "code",
   "execution_count": 3,
   "metadata": {},
   "outputs": [
    {
     "data": {
      "text/html": [
       "<div>\n",
       "<style scoped>\n",
       "    .dataframe tbody tr th:only-of-type {\n",
       "        vertical-align: middle;\n",
       "    }\n",
       "\n",
       "    .dataframe tbody tr th {\n",
       "        vertical-align: top;\n",
       "    }\n",
       "\n",
       "    .dataframe thead th {\n",
       "        text-align: right;\n",
       "    }\n",
       "</style>\n",
       "<table border=\"1\" class=\"dataframe\">\n",
       "  <thead>\n",
       "    <tr style=\"text-align: right;\">\n",
       "      <th></th>\n",
       "      <th>MORTGAGE</th>\n",
       "      <th>RENT</th>\n",
       "      <th>ELECTRICITY</th>\n",
       "      <th>GAS</th>\n",
       "      <th>EAT-IN</th>\n",
       "      <th>PHONE</th>\n",
       "      <th>HLTH &amp; WELL</th>\n",
       "      <th>VET</th>\n",
       "      <th>REGION</th>\n",
       "    </tr>\n",
       "  </thead>\n",
       "  <tbody>\n",
       "    <tr>\n",
       "      <th>0</th>\n",
       "      <td>327568</td>\n",
       "      <td>1026.00</td>\n",
       "      <td>143.01</td>\n",
       "      <td>2.64</td>\n",
       "      <td>13.53</td>\n",
       "      <td>152.45</td>\n",
       "      <td>806.85</td>\n",
       "      <td>52.50</td>\n",
       "      <td>0</td>\n",
       "    </tr>\n",
       "    <tr>\n",
       "      <th>1</th>\n",
       "      <td>353246</td>\n",
       "      <td>1107.00</td>\n",
       "      <td>147.04</td>\n",
       "      <td>2.44</td>\n",
       "      <td>11.29</td>\n",
       "      <td>156.74</td>\n",
       "      <td>746.06</td>\n",
       "      <td>51.88</td>\n",
       "      <td>0</td>\n",
       "    </tr>\n",
       "    <tr>\n",
       "      <th>2</th>\n",
       "      <td>296685</td>\n",
       "      <td>929.39</td>\n",
       "      <td>153.91</td>\n",
       "      <td>2.53</td>\n",
       "      <td>12.07</td>\n",
       "      <td>164.06</td>\n",
       "      <td>773.83</td>\n",
       "      <td>52.34</td>\n",
       "      <td>0</td>\n",
       "    </tr>\n",
       "    <tr>\n",
       "      <th>3</th>\n",
       "      <td>364003</td>\n",
       "      <td>1140.00</td>\n",
       "      <td>174.87</td>\n",
       "      <td>2.59</td>\n",
       "      <td>12.21</td>\n",
       "      <td>186.40</td>\n",
       "      <td>759.56</td>\n",
       "      <td>52.65</td>\n",
       "      <td>0</td>\n",
       "    </tr>\n",
       "    <tr>\n",
       "      <th>4</th>\n",
       "      <td>363656</td>\n",
       "      <td>1139.00</td>\n",
       "      <td>185.43</td>\n",
       "      <td>2.54</td>\n",
       "      <td>11.17</td>\n",
       "      <td>197.66</td>\n",
       "      <td>684.51</td>\n",
       "      <td>48.64</td>\n",
       "      <td>0</td>\n",
       "    </tr>\n",
       "    <tr>\n",
       "      <th>5</th>\n",
       "      <td>498986</td>\n",
       "      <td>1563.00</td>\n",
       "      <td>165.31</td>\n",
       "      <td>2.93</td>\n",
       "      <td>13.56</td>\n",
       "      <td>176.22</td>\n",
       "      <td>728.05</td>\n",
       "      <td>52.19</td>\n",
       "      <td>0</td>\n",
       "    </tr>\n",
       "    <tr>\n",
       "      <th>6</th>\n",
       "      <td>316117</td>\n",
       "      <td>990.26</td>\n",
       "      <td>150.73</td>\n",
       "      <td>2.62</td>\n",
       "      <td>12.48</td>\n",
       "      <td>160.67</td>\n",
       "      <td>613.21</td>\n",
       "      <td>53.37</td>\n",
       "      <td>0</td>\n",
       "    </tr>\n",
       "    <tr>\n",
       "      <th>7</th>\n",
       "      <td>308483</td>\n",
       "      <td>966.34</td>\n",
       "      <td>186.44</td>\n",
       "      <td>2.45</td>\n",
       "      <td>13.14</td>\n",
       "      <td>198.74</td>\n",
       "      <td>662.00</td>\n",
       "      <td>48.69</td>\n",
       "      <td>0</td>\n",
       "    </tr>\n",
       "    <tr>\n",
       "      <th>8</th>\n",
       "      <td>241512</td>\n",
       "      <td>756.55</td>\n",
       "      <td>161.62</td>\n",
       "      <td>2.39</td>\n",
       "      <td>14.57</td>\n",
       "      <td>172.29</td>\n",
       "      <td>772.33</td>\n",
       "      <td>54.82</td>\n",
       "      <td>0</td>\n",
       "    </tr>\n",
       "    <tr>\n",
       "      <th>9</th>\n",
       "      <td>266843</td>\n",
       "      <td>835.90</td>\n",
       "      <td>194.99</td>\n",
       "      <td>2.77</td>\n",
       "      <td>12.87</td>\n",
       "      <td>207.85</td>\n",
       "      <td>737.80</td>\n",
       "      <td>49.93</td>\n",
       "      <td>0</td>\n",
       "    </tr>\n",
       "    <tr>\n",
       "      <th>10</th>\n",
       "      <td>859866</td>\n",
       "      <td>2694.00</td>\n",
       "      <td>162.13</td>\n",
       "      <td>2.73</td>\n",
       "      <td>14.15</td>\n",
       "      <td>172.82</td>\n",
       "      <td>724.30</td>\n",
       "      <td>50.44</td>\n",
       "      <td>0</td>\n",
       "    </tr>\n",
       "    <tr>\n",
       "      <th>11</th>\n",
       "      <td>539932</td>\n",
       "      <td>1691.00</td>\n",
       "      <td>151.23</td>\n",
       "      <td>3.30</td>\n",
       "      <td>15.89</td>\n",
       "      <td>161.21</td>\n",
       "      <td>760.32</td>\n",
       "      <td>59.09</td>\n",
       "      <td>1</td>\n",
       "    </tr>\n",
       "    <tr>\n",
       "      <th>12</th>\n",
       "      <td>264414</td>\n",
       "      <td>828.29</td>\n",
       "      <td>159.95</td>\n",
       "      <td>2.63</td>\n",
       "      <td>13.40</td>\n",
       "      <td>170.50</td>\n",
       "      <td>738.55</td>\n",
       "      <td>52.45</td>\n",
       "      <td>1</td>\n",
       "    </tr>\n",
       "    <tr>\n",
       "      <th>13</th>\n",
       "      <td>306401</td>\n",
       "      <td>959.82</td>\n",
       "      <td>175.54</td>\n",
       "      <td>2.68</td>\n",
       "      <td>16.32</td>\n",
       "      <td>187.12</td>\n",
       "      <td>759.56</td>\n",
       "      <td>54.56</td>\n",
       "      <td>1</td>\n",
       "    </tr>\n",
       "    <tr>\n",
       "      <th>14</th>\n",
       "      <td>326527</td>\n",
       "      <td>1023.00</td>\n",
       "      <td>171.18</td>\n",
       "      <td>2.82</td>\n",
       "      <td>13.32</td>\n",
       "      <td>182.47</td>\n",
       "      <td>707.02</td>\n",
       "      <td>50.03</td>\n",
       "      <td>1</td>\n",
       "    </tr>\n",
       "    <tr>\n",
       "      <th>15</th>\n",
       "      <td>319587</td>\n",
       "      <td>1001.00</td>\n",
       "      <td>180.74</td>\n",
       "      <td>2.57</td>\n",
       "      <td>14.71</td>\n",
       "      <td>192.66</td>\n",
       "      <td>742.30</td>\n",
       "      <td>53.48</td>\n",
       "      <td>1</td>\n",
       "    </tr>\n",
       "    <tr>\n",
       "      <th>16</th>\n",
       "      <td>325833</td>\n",
       "      <td>1021.00</td>\n",
       "      <td>179.73</td>\n",
       "      <td>2.49</td>\n",
       "      <td>14.37</td>\n",
       "      <td>191.59</td>\n",
       "      <td>851.13</td>\n",
       "      <td>48.74</td>\n",
       "      <td>1</td>\n",
       "    </tr>\n",
       "    <tr>\n",
       "      <th>17</th>\n",
       "      <td>363656</td>\n",
       "      <td>1139.00</td>\n",
       "      <td>152.74</td>\n",
       "      <td>2.82</td>\n",
       "      <td>15.65</td>\n",
       "      <td>162.81</td>\n",
       "      <td>784.34</td>\n",
       "      <td>55.07</td>\n",
       "      <td>1</td>\n",
       "    </tr>\n",
       "    <tr>\n",
       "      <th>18</th>\n",
       "      <td>252269</td>\n",
       "      <td>790.25</td>\n",
       "      <td>192.31</td>\n",
       "      <td>2.62</td>\n",
       "      <td>15.34</td>\n",
       "      <td>204.99</td>\n",
       "      <td>766.32</td>\n",
       "      <td>49.98</td>\n",
       "      <td>1</td>\n",
       "    </tr>\n",
       "  </tbody>\n",
       "</table>\n",
       "</div>"
      ],
      "text/plain": [
       "    MORTGAGE     RENT  ELECTRICITY   GAS  EAT-IN   PHONE  HLTH & WELL    VET  \\\n",
       "0     327568  1026.00       143.01  2.64   13.53  152.45       806.85  52.50   \n",
       "1     353246  1107.00       147.04  2.44   11.29  156.74       746.06  51.88   \n",
       "2     296685   929.39       153.91  2.53   12.07  164.06       773.83  52.34   \n",
       "3     364003  1140.00       174.87  2.59   12.21  186.40       759.56  52.65   \n",
       "4     363656  1139.00       185.43  2.54   11.17  197.66       684.51  48.64   \n",
       "5     498986  1563.00       165.31  2.93   13.56  176.22       728.05  52.19   \n",
       "6     316117   990.26       150.73  2.62   12.48  160.67       613.21  53.37   \n",
       "7     308483   966.34       186.44  2.45   13.14  198.74       662.00  48.69   \n",
       "8     241512   756.55       161.62  2.39   14.57  172.29       772.33  54.82   \n",
       "9     266843   835.90       194.99  2.77   12.87  207.85       737.80  49.93   \n",
       "10    859866  2694.00       162.13  2.73   14.15  172.82       724.30  50.44   \n",
       "11    539932  1691.00       151.23  3.30   15.89  161.21       760.32  59.09   \n",
       "12    264414   828.29       159.95  2.63   13.40  170.50       738.55  52.45   \n",
       "13    306401   959.82       175.54  2.68   16.32  187.12       759.56  54.56   \n",
       "14    326527  1023.00       171.18  2.82   13.32  182.47       707.02  50.03   \n",
       "15    319587  1001.00       180.74  2.57   14.71  192.66       742.30  53.48   \n",
       "16    325833  1021.00       179.73  2.49   14.37  191.59       851.13  48.74   \n",
       "17    363656  1139.00       152.74  2.82   15.65  162.81       784.34  55.07   \n",
       "18    252269   790.25       192.31  2.62   15.34  204.99       766.32  49.98   \n",
       "\n",
       "    REGION  \n",
       "0        0  \n",
       "1        0  \n",
       "2        0  \n",
       "3        0  \n",
       "4        0  \n",
       "5        0  \n",
       "6        0  \n",
       "7        0  \n",
       "8        0  \n",
       "9        0  \n",
       "10       0  \n",
       "11       1  \n",
       "12       1  \n",
       "13       1  \n",
       "14       1  \n",
       "15       1  \n",
       "16       1  \n",
       "17       1  \n",
       "18       1  "
      ]
     },
     "execution_count": 3,
     "metadata": {},
     "output_type": "execute_result"
    }
   ],
   "source": [
    "new_df = df.replace(['Southern','Mid-West'], [0,1])\n",
    "new_df"
   ]
  },
  {
   "cell_type": "code",
   "execution_count": 4,
   "metadata": {},
   "outputs": [
    {
     "name": "stdout",
     "output_type": "stream",
     "text": [
      "(19, 8)\n",
      "(19,)\n"
     ]
    }
   ],
   "source": [
    "X = new_df.drop('REGION', axis=1)\n",
    "y = new_df['REGION']\n",
    "print(X.shape)\n",
    "print(y.shape)\n"
   ]
  },
  {
   "cell_type": "code",
   "execution_count": 5,
   "metadata": {},
   "outputs": [
    {
     "name": "stdout",
     "output_type": "stream",
     "text": [
      "0     0\n",
      "1     0\n",
      "2     0\n",
      "3     0\n",
      "4     0\n",
      "5     0\n",
      "6     0\n",
      "7     0\n",
      "8     0\n",
      "9     0\n",
      "10    0\n",
      "11    1\n",
      "12    1\n",
      "13    1\n",
      "14    1\n",
      "15    1\n",
      "16    1\n",
      "17    1\n",
      "18    1\n",
      "Name: REGION, dtype: int64\n"
     ]
    }
   ],
   "source": [
    "print(y)"
   ]
  },
  {
   "cell_type": "code",
   "execution_count": 6,
   "metadata": {},
   "outputs": [],
   "source": [
    "from sklearn.model_selection import train_test_split\n",
    "\n",
    "X_train, X_test, y_train, y_test = train_test_split(X, y, random_state=1)"
   ]
  },
  {
   "cell_type": "code",
   "execution_count": 7,
   "metadata": {},
   "outputs": [
    {
     "name": "stderr",
     "output_type": "stream",
     "text": [
      "C:\\Users\\Mason\\Anaconda3\\envs\\PythonData\\lib\\site-packages\\sklearn\\preprocessing\\data.py:645: DataConversionWarning: Data with input dtype int64, float64 were all converted to float64 by StandardScaler.\n",
      "  return self.partial_fit(X, y)\n"
     ]
    }
   ],
   "source": [
    "from sklearn.preprocessing import StandardScaler\n",
    "\n",
    "X_scaler = StandardScaler().fit(X_train)"
   ]
  },
  {
   "cell_type": "code",
   "execution_count": 8,
   "metadata": {},
   "outputs": [
    {
     "name": "stderr",
     "output_type": "stream",
     "text": [
      "C:\\Users\\Mason\\Anaconda3\\envs\\PythonData\\lib\\site-packages\\ipykernel_launcher.py:1: DataConversionWarning: Data with input dtype int64, float64 were all converted to float64 by StandardScaler.\n",
      "  \"\"\"Entry point for launching an IPython kernel.\n",
      "C:\\Users\\Mason\\Anaconda3\\envs\\PythonData\\lib\\site-packages\\ipykernel_launcher.py:2: DataConversionWarning: Data with input dtype int64, float64 were all converted to float64 by StandardScaler.\n",
      "  \n"
     ]
    }
   ],
   "source": [
    "X_train_scaled = X_scaler.transform(X_train)\n",
    "X_test_scaled = X_scaler.transform(X_test)"
   ]
  },
  {
   "cell_type": "code",
   "execution_count": 9,
   "metadata": {},
   "outputs": [],
   "source": [
    "from tensorflow.keras.utils import to_categorical"
   ]
  },
  {
   "cell_type": "code",
   "execution_count": 10,
   "metadata": {},
   "outputs": [
    {
     "data": {
      "text/plain": [
       "array([[0., 1.],\n",
       "       [1., 0.],\n",
       "       [0., 1.],\n",
       "       [1., 0.],\n",
       "       [1., 0.],\n",
       "       [0., 1.],\n",
       "       [1., 0.],\n",
       "       [0., 1.],\n",
       "       [0., 1.],\n",
       "       [1., 0.],\n",
       "       [1., 0.],\n",
       "       [0., 1.],\n",
       "       [0., 1.],\n",
       "       [1., 0.]], dtype=float32)"
      ]
     },
     "execution_count": 10,
     "metadata": {},
     "output_type": "execute_result"
    }
   ],
   "source": [
    "# One-hot encoding\n",
    "y_train_categorical = to_categorical(y_train)\n",
    "y_test_categorical = to_categorical(y_test)\n",
    "y_train_categorical"
   ]
  },
  {
   "cell_type": "code",
   "execution_count": 11,
   "metadata": {},
   "outputs": [],
   "source": [
    "from tensorflow.keras.models import Sequential\n",
    "\n",
    "model = Sequential()"
   ]
  },
  {
   "cell_type": "code",
   "execution_count": 12,
   "metadata": {},
   "outputs": [
    {
     "name": "stdout",
     "output_type": "stream",
     "text": [
      "WARNING:tensorflow:From C:\\Users\\Mason\\Anaconda3\\envs\\PythonData\\lib\\site-packages\\tensorflow\\python\\ops\\init_ops.py:1251: calling VarianceScaling.__init__ (from tensorflow.python.ops.init_ops) with dtype is deprecated and will be removed in a future version.\n",
      "Instructions for updating:\n",
      "Call initializer instance with the dtype argument instead of passing it to the constructor\n"
     ]
    }
   ],
   "source": [
    "from tensorflow.keras.layers import Dense\n",
    "number_inputs = 8\n",
    "number_hidden_nodes = 4\n",
    "model.add(Dense(units=number_hidden_nodes,\n",
    "                activation='relu', input_dim=number_inputs))"
   ]
  },
  {
   "cell_type": "code",
   "execution_count": 13,
   "metadata": {},
   "outputs": [],
   "source": [
    "number_classes = 2\n",
    "model.add(Dense(units=number_classes, activation='softmax'))"
   ]
  },
  {
   "cell_type": "code",
   "execution_count": 14,
   "metadata": {},
   "outputs": [
    {
     "name": "stdout",
     "output_type": "stream",
     "text": [
      "Model: \"sequential\"\n",
      "_________________________________________________________________\n",
      "Layer (type)                 Output Shape              Param #   \n",
      "=================================================================\n",
      "dense (Dense)                (None, 4)                 36        \n",
      "_________________________________________________________________\n",
      "dense_1 (Dense)              (None, 2)                 10        \n",
      "=================================================================\n",
      "Total params: 46\n",
      "Trainable params: 46\n",
      "Non-trainable params: 0\n",
      "_________________________________________________________________\n"
     ]
    }
   ],
   "source": [
    "model.summary()"
   ]
  },
  {
   "cell_type": "code",
   "execution_count": 15,
   "metadata": {},
   "outputs": [],
   "source": [
    "# Use categorical crossentropy for categorical data and mean squared error for regression\n",
    "# Hint: your output layer in this example is using software for logistic regression (categorical)\n",
    "# If your output layer activation was `linear` then you may want to use `mse` for loss\n",
    "model.compile(optimizer='adam',\n",
    "              loss='categorical_crossentropy',\n",
    "              metrics=['accuracy'])"
   ]
  },
  {
   "cell_type": "code",
   "execution_count": 18,
   "metadata": {},
   "outputs": [
    {
     "name": "stdout",
     "output_type": "stream",
     "text": [
      "Epoch 1/50\n",
      "14/14 - 0s - loss: 0.7382 - acc: 0.5714\n",
      "Epoch 2/50\n",
      "14/14 - 0s - loss: 0.7356 - acc: 0.5714\n",
      "Epoch 3/50\n",
      "14/14 - 0s - loss: 0.7334 - acc: 0.5714\n",
      "Epoch 4/50\n",
      "14/14 - 0s - loss: 0.7312 - acc: 0.5714\n",
      "Epoch 5/50\n",
      "14/14 - 0s - loss: 0.7290 - acc: 0.5714\n",
      "Epoch 6/50\n",
      "14/14 - 0s - loss: 0.7268 - acc: 0.5714\n",
      "Epoch 7/50\n",
      "14/14 - 0s - loss: 0.7247 - acc: 0.5714\n",
      "Epoch 8/50\n",
      "14/14 - 0s - loss: 0.7225 - acc: 0.5714\n",
      "Epoch 9/50\n",
      "14/14 - 0s - loss: 0.7204 - acc: 0.5714\n",
      "Epoch 10/50\n",
      "14/14 - 0s - loss: 0.7183 - acc: 0.5714\n",
      "Epoch 11/50\n",
      "14/14 - 0s - loss: 0.7163 - acc: 0.5714\n",
      "Epoch 12/50\n",
      "14/14 - 0s - loss: 0.7142 - acc: 0.5714\n",
      "Epoch 13/50\n",
      "14/14 - 0s - loss: 0.7122 - acc: 0.5714\n",
      "Epoch 14/50\n",
      "14/14 - 0s - loss: 0.7102 - acc: 0.5714\n",
      "Epoch 15/50\n",
      "14/14 - 0s - loss: 0.7082 - acc: 0.5714\n",
      "Epoch 16/50\n",
      "14/14 - 0s - loss: 0.7062 - acc: 0.5714\n",
      "Epoch 17/50\n",
      "14/14 - 0s - loss: 0.7042 - acc: 0.5714\n",
      "Epoch 18/50\n",
      "14/14 - 0s - loss: 0.7023 - acc: 0.5714\n",
      "Epoch 19/50\n",
      "14/14 - 0s - loss: 0.7004 - acc: 0.5714\n",
      "Epoch 20/50\n",
      "14/14 - 0s - loss: 0.6985 - acc: 0.5714\n",
      "Epoch 21/50\n",
      "14/14 - 0s - loss: 0.6966 - acc: 0.5714\n",
      "Epoch 22/50\n",
      "14/14 - 0s - loss: 0.6947 - acc: 0.5714\n",
      "Epoch 23/50\n",
      "14/14 - 0s - loss: 0.6929 - acc: 0.5714\n",
      "Epoch 24/50\n",
      "14/14 - 0s - loss: 0.6910 - acc: 0.5714\n",
      "Epoch 25/50\n",
      "14/14 - 0s - loss: 0.6892 - acc: 0.6429\n",
      "Epoch 26/50\n",
      "14/14 - 0s - loss: 0.6875 - acc: 0.6429\n",
      "Epoch 27/50\n",
      "14/14 - 0s - loss: 0.6857 - acc: 0.6429\n",
      "Epoch 28/50\n",
      "14/14 - 0s - loss: 0.6839 - acc: 0.6429\n",
      "Epoch 29/50\n",
      "14/14 - 0s - loss: 0.6821 - acc: 0.6429\n",
      "Epoch 30/50\n",
      "14/14 - 0s - loss: 0.6803 - acc: 0.6429\n",
      "Epoch 31/50\n",
      "14/14 - 0s - loss: 0.6786 - acc: 0.6429\n",
      "Epoch 32/50\n",
      "14/14 - 0s - loss: 0.6769 - acc: 0.6429\n",
      "Epoch 33/50\n",
      "14/14 - 0s - loss: 0.6753 - acc: 0.6429\n",
      "Epoch 34/50\n",
      "14/14 - 0s - loss: 0.6737 - acc: 0.6429\n",
      "Epoch 35/50\n",
      "14/14 - 0s - loss: 0.6720 - acc: 0.6429\n",
      "Epoch 36/50\n",
      "14/14 - 0s - loss: 0.6704 - acc: 0.5714\n",
      "Epoch 37/50\n",
      "14/14 - 0s - loss: 0.6688 - acc: 0.5714\n",
      "Epoch 38/50\n",
      "14/14 - 0s - loss: 0.6673 - acc: 0.5714\n",
      "Epoch 39/50\n",
      "14/14 - 0s - loss: 0.6657 - acc: 0.5714\n",
      "Epoch 40/50\n",
      "14/14 - 0s - loss: 0.6641 - acc: 0.5714\n",
      "Epoch 41/50\n",
      "14/14 - 0s - loss: 0.6626 - acc: 0.5714\n",
      "Epoch 42/50\n",
      "14/14 - 0s - loss: 0.6611 - acc: 0.5714\n",
      "Epoch 43/50\n",
      "14/14 - 0s - loss: 0.6595 - acc: 0.5714\n",
      "Epoch 44/50\n",
      "14/14 - 0s - loss: 0.6581 - acc: 0.5714\n",
      "Epoch 45/50\n",
      "14/14 - 0s - loss: 0.6566 - acc: 0.5714\n",
      "Epoch 46/50\n",
      "14/14 - 0s - loss: 0.6552 - acc: 0.5714\n",
      "Epoch 47/50\n",
      "14/14 - 0s - loss: 0.6537 - acc: 0.5714\n",
      "Epoch 48/50\n",
      "14/14 - 0s - loss: 0.6523 - acc: 0.5714\n",
      "Epoch 49/50\n",
      "14/14 - 0s - loss: 0.6509 - acc: 0.5714\n",
      "Epoch 50/50\n",
      "14/14 - 0s - loss: 0.6495 - acc: 0.5714\n"
     ]
    },
    {
     "data": {
      "text/plain": [
       "<tensorflow.python.keras.callbacks.History at 0x1c2ae639b00>"
      ]
     },
     "execution_count": 18,
     "metadata": {},
     "output_type": "execute_result"
    }
   ],
   "source": [
    "# Fit (train) the model\n",
    "model.fit(\n",
    "    X_train_scaled,\n",
    "    y_train_categorical,\n",
    "    epochs=50,\n",
    "    shuffle=True,\n",
    "    verbose=2\n",
    ")"
   ]
  },
  {
   "cell_type": "code",
   "execution_count": 19,
   "metadata": {},
   "outputs": [
    {
     "name": "stdout",
     "output_type": "stream",
     "text": [
      "5/5 - 0s - loss: 0.4185 - acc: 1.0000\n",
      "Loss: 0.41853171586990356, Accuracy: 1.0\n"
     ]
    }
   ],
   "source": [
    "model_loss, model_accuracy = model.evaluate(\n",
    "    X_test_scaled, y_test_categorical, verbose=2)\n",
    "print(f\"Loss: {model_loss}, Accuracy: {model_accuracy}\")"
   ]
  },
  {
   "cell_type": "code",
   "execution_count": null,
   "metadata": {},
   "outputs": [],
   "source": []
  }
 ],
 "metadata": {
  "kernelspec": {
   "display_name": "Python 3",
   "language": "python",
   "name": "python3"
  },
  "language_info": {
   "codemirror_mode": {
    "name": "ipython",
    "version": 3
   },
   "file_extension": ".py",
   "mimetype": "text/x-python",
   "name": "python",
   "nbconvert_exporter": "python",
   "pygments_lexer": "ipython3",
   "version": "3.7.3"
  }
 },
 "nbformat": 4,
 "nbformat_minor": 2
}
