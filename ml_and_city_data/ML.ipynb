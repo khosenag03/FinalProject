{
 "cells": [
  {
   "cell_type": "code",
   "execution_count": 36,
   "metadata": {},
   "outputs": [],
   "source": [
    "from sklearn.ensemble import RandomForestClassifier\n",
    "import pandas as pd"
   ]
  },
  {
   "cell_type": "code",
   "execution_count": 43,
   "metadata": {},
   "outputs": [
    {
     "data": {
      "text/html": [
       "<div>\n",
       "<style scoped>\n",
       "    .dataframe tbody tr th:only-of-type {\n",
       "        vertical-align: middle;\n",
       "    }\n",
       "\n",
       "    .dataframe tbody tr th {\n",
       "        vertical-align: top;\n",
       "    }\n",
       "\n",
       "    .dataframe thead th {\n",
       "        text-align: right;\n",
       "    }\n",
       "</style>\n",
       "<table border=\"1\" class=\"dataframe\">\n",
       "  <thead>\n",
       "    <tr style=\"text-align: right;\">\n",
       "      <th></th>\n",
       "      <th>Mid-Career Median Salary</th>\n",
       "      <th>MORTGAGE</th>\n",
       "      <th>RENT</th>\n",
       "      <th>ELECTRICITY</th>\n",
       "      <th>GAS</th>\n",
       "      <th>EAT-IN</th>\n",
       "      <th>PHONE</th>\n",
       "      <th>HLTH &amp; WELL</th>\n",
       "      <th>VET</th>\n",
       "      <th>REGION</th>\n",
       "    </tr>\n",
       "  </thead>\n",
       "  <tbody>\n",
       "    <tr>\n",
       "      <th>0</th>\n",
       "      <td>6908.333333</td>\n",
       "      <td>688.216667</td>\n",
       "      <td>776.12</td>\n",
       "      <td>154.08</td>\n",
       "      <td>65.4</td>\n",
       "      <td>399.6</td>\n",
       "      <td>164.24</td>\n",
       "      <td>680.75</td>\n",
       "      <td>46.79</td>\n",
       "      <td>0</td>\n",
       "    </tr>\n",
       "    <tr>\n",
       "      <th>1</th>\n",
       "      <td>6725.000000</td>\n",
       "      <td>688.216667</td>\n",
       "      <td>776.12</td>\n",
       "      <td>154.08</td>\n",
       "      <td>65.4</td>\n",
       "      <td>399.6</td>\n",
       "      <td>164.24</td>\n",
       "      <td>680.75</td>\n",
       "      <td>46.79</td>\n",
       "      <td>0</td>\n",
       "    </tr>\n",
       "    <tr>\n",
       "      <th>2</th>\n",
       "      <td>6358.333333</td>\n",
       "      <td>721.952778</td>\n",
       "      <td>814.16</td>\n",
       "      <td>183.42</td>\n",
       "      <td>75.0</td>\n",
       "      <td>431.4</td>\n",
       "      <td>195.52</td>\n",
       "      <td>654.49</td>\n",
       "      <td>48.02</td>\n",
       "      <td>0</td>\n",
       "    </tr>\n",
       "    <tr>\n",
       "      <th>3</th>\n",
       "      <td>7033.333333</td>\n",
       "      <td>1286.791667</td>\n",
       "      <td>1451.00</td>\n",
       "      <td>156.76</td>\n",
       "      <td>82.5</td>\n",
       "      <td>431.1</td>\n",
       "      <td>167.10</td>\n",
       "      <td>790.34</td>\n",
       "      <td>55.28</td>\n",
       "      <td>2</td>\n",
       "    </tr>\n",
       "    <tr>\n",
       "      <th>4</th>\n",
       "      <td>6150.000000</td>\n",
       "      <td>1286.791667</td>\n",
       "      <td>1451.00</td>\n",
       "      <td>156.76</td>\n",
       "      <td>82.5</td>\n",
       "      <td>431.1</td>\n",
       "      <td>167.10</td>\n",
       "      <td>790.34</td>\n",
       "      <td>55.28</td>\n",
       "      <td>2</td>\n",
       "    </tr>\n",
       "  </tbody>\n",
       "</table>\n",
       "</div>"
      ],
      "text/plain": [
       "   Mid-Career Median Salary     MORTGAGE     RENT  ELECTRICITY   GAS  EAT-IN  \\\n",
       "0               6908.333333   688.216667   776.12       154.08  65.4   399.6   \n",
       "1               6725.000000   688.216667   776.12       154.08  65.4   399.6   \n",
       "2               6358.333333   721.952778   814.16       183.42  75.0   431.4   \n",
       "3               7033.333333  1286.791667  1451.00       156.76  82.5   431.1   \n",
       "4               6150.000000  1286.791667  1451.00       156.76  82.5   431.1   \n",
       "\n",
       "    PHONE  HLTH & WELL    VET  REGION  \n",
       "0  164.24       680.75  46.79       0  \n",
       "1  164.24       680.75  46.79       0  \n",
       "2  195.52       654.49  48.02       0  \n",
       "3  167.10       790.34  55.28       2  \n",
       "4  167.10       790.34  55.28       2  "
      ]
     },
     "execution_count": 43,
     "metadata": {},
     "output_type": "execute_result"
    }
   ],
   "source": [
    "csv = \"clean_ml.csv\"\n",
    "df = pd.read_csv(csv, encoding=\"ISO-8859-1\")\n",
    "df = df.drop(['Unnamed: 0'], axis=1)\n",
    "\n",
    "df.head()\n"
   ]
  },
  {
   "cell_type": "code",
   "execution_count": 44,
   "metadata": {},
   "outputs": [],
   "source": [
    "#df = df.drop(['School Name'],axis=1)\n",
    "\n"
   ]
  },
  {
   "cell_type": "code",
   "execution_count": 45,
   "metadata": {},
   "outputs": [
    {
     "data": {
      "text/plain": [
       "Mid-Career Median Salary    float64\n",
       "MORTGAGE                    float64\n",
       "RENT                        float64\n",
       "ELECTRICITY                 float64\n",
       "GAS                         float64\n",
       "EAT-IN                      float64\n",
       "PHONE                       float64\n",
       "HLTH & WELL                 float64\n",
       "VET                         float64\n",
       "REGION                        int64\n",
       "dtype: object"
      ]
     },
     "execution_count": 45,
     "metadata": {},
     "output_type": "execute_result"
    }
   ],
   "source": [
    "df.dtypes"
   ]
  },
  {
   "cell_type": "code",
   "execution_count": null,
   "metadata": {},
   "outputs": [],
   "source": []
  },
  {
   "cell_type": "code",
   "execution_count": null,
   "metadata": {},
   "outputs": [],
   "source": []
  },
  {
   "cell_type": "code",
   "execution_count": 46,
   "metadata": {},
   "outputs": [
    {
     "data": {
      "text/html": [
       "<div>\n",
       "<style scoped>\n",
       "    .dataframe tbody tr th:only-of-type {\n",
       "        vertical-align: middle;\n",
       "    }\n",
       "\n",
       "    .dataframe tbody tr th {\n",
       "        vertical-align: top;\n",
       "    }\n",
       "\n",
       "    .dataframe thead th {\n",
       "        text-align: right;\n",
       "    }\n",
       "</style>\n",
       "<table border=\"1\" class=\"dataframe\">\n",
       "  <thead>\n",
       "    <tr style=\"text-align: right;\">\n",
       "      <th></th>\n",
       "      <th>Mid-Career Median Salary</th>\n",
       "      <th>MORTGAGE</th>\n",
       "      <th>RENT</th>\n",
       "      <th>ELECTRICITY</th>\n",
       "      <th>GAS</th>\n",
       "      <th>EAT-IN</th>\n",
       "      <th>PHONE</th>\n",
       "      <th>HLTH &amp; WELL</th>\n",
       "      <th>VET</th>\n",
       "      <th>REGION</th>\n",
       "    </tr>\n",
       "  </thead>\n",
       "  <tbody>\n",
       "    <tr>\n",
       "      <th>0</th>\n",
       "      <td>6908.333333</td>\n",
       "      <td>688.216667</td>\n",
       "      <td>776.12</td>\n",
       "      <td>154.08</td>\n",
       "      <td>65.4</td>\n",
       "      <td>399.6</td>\n",
       "      <td>164.24</td>\n",
       "      <td>680.75</td>\n",
       "      <td>46.79</td>\n",
       "      <td>0</td>\n",
       "    </tr>\n",
       "    <tr>\n",
       "      <th>1</th>\n",
       "      <td>6725.000000</td>\n",
       "      <td>688.216667</td>\n",
       "      <td>776.12</td>\n",
       "      <td>154.08</td>\n",
       "      <td>65.4</td>\n",
       "      <td>399.6</td>\n",
       "      <td>164.24</td>\n",
       "      <td>680.75</td>\n",
       "      <td>46.79</td>\n",
       "      <td>0</td>\n",
       "    </tr>\n",
       "    <tr>\n",
       "      <th>2</th>\n",
       "      <td>6358.333333</td>\n",
       "      <td>721.952778</td>\n",
       "      <td>814.16</td>\n",
       "      <td>183.42</td>\n",
       "      <td>75.0</td>\n",
       "      <td>431.4</td>\n",
       "      <td>195.52</td>\n",
       "      <td>654.49</td>\n",
       "      <td>48.02</td>\n",
       "      <td>0</td>\n",
       "    </tr>\n",
       "    <tr>\n",
       "      <th>3</th>\n",
       "      <td>7033.333333</td>\n",
       "      <td>1286.791667</td>\n",
       "      <td>1451.00</td>\n",
       "      <td>156.76</td>\n",
       "      <td>82.5</td>\n",
       "      <td>431.1</td>\n",
       "      <td>167.10</td>\n",
       "      <td>790.34</td>\n",
       "      <td>55.28</td>\n",
       "      <td>2</td>\n",
       "    </tr>\n",
       "    <tr>\n",
       "      <th>4</th>\n",
       "      <td>6150.000000</td>\n",
       "      <td>1286.791667</td>\n",
       "      <td>1451.00</td>\n",
       "      <td>156.76</td>\n",
       "      <td>82.5</td>\n",
       "      <td>431.1</td>\n",
       "      <td>167.10</td>\n",
       "      <td>790.34</td>\n",
       "      <td>55.28</td>\n",
       "      <td>2</td>\n",
       "    </tr>\n",
       "  </tbody>\n",
       "</table>\n",
       "</div>"
      ],
      "text/plain": [
       "   Mid-Career Median Salary     MORTGAGE     RENT  ELECTRICITY   GAS  EAT-IN  \\\n",
       "0               6908.333333   688.216667   776.12       154.08  65.4   399.6   \n",
       "1               6725.000000   688.216667   776.12       154.08  65.4   399.6   \n",
       "2               6358.333333   721.952778   814.16       183.42  75.0   431.4   \n",
       "3               7033.333333  1286.791667  1451.00       156.76  82.5   431.1   \n",
       "4               6150.000000  1286.791667  1451.00       156.76  82.5   431.1   \n",
       "\n",
       "    PHONE  HLTH & WELL    VET  REGION  \n",
       "0  164.24       680.75  46.79       0  \n",
       "1  164.24       680.75  46.79       0  \n",
       "2  195.52       654.49  48.02       0  \n",
       "3  167.10       790.34  55.28       2  \n",
       "4  167.10       790.34  55.28       2  "
      ]
     },
     "execution_count": 46,
     "metadata": {},
     "output_type": "execute_result"
    }
   ],
   "source": [
    "df.head()"
   ]
  },
  {
   "cell_type": "code",
   "execution_count": 47,
   "metadata": {},
   "outputs": [],
   "source": [
    "# df.dtypes\n",
    "\n",
    "# df.to_csv('ml.csv')"
   ]
  },
  {
   "cell_type": "code",
   "execution_count": 48,
   "metadata": {},
   "outputs": [],
   "source": [
    "X = df.drop('REGION', axis=1)\n",
    "y = df['REGION']"
   ]
  },
  {
   "cell_type": "code",
   "execution_count": 49,
   "metadata": {},
   "outputs": [],
   "source": [
    "from sklearn.model_selection import train_test_split\n",
    "X_train, X_test, y_train, y_test = train_test_split(X, y, test_size=0.20)"
   ]
  },
  {
   "cell_type": "code",
   "execution_count": 50,
   "metadata": {},
   "outputs": [
    {
     "data": {
      "text/plain": [
       "DecisionTreeClassifier(class_weight=None, criterion='gini', max_depth=None,\n",
       "            max_features=None, max_leaf_nodes=None,\n",
       "            min_impurity_decrease=0.0, min_impurity_split=None,\n",
       "            min_samples_leaf=1, min_samples_split=2,\n",
       "            min_weight_fraction_leaf=0.0, presort=False, random_state=None,\n",
       "            splitter='best')"
      ]
     },
     "execution_count": 50,
     "metadata": {},
     "output_type": "execute_result"
    }
   ],
   "source": [
    "from sklearn.tree import DecisionTreeClassifier\n",
    "classifier = DecisionTreeClassifier()\n",
    "classifier.fit(X_train, y_train)"
   ]
  },
  {
   "cell_type": "code",
   "execution_count": 51,
   "metadata": {},
   "outputs": [],
   "source": [
    "y_pred = classifier.predict(X_test)"
   ]
  },
  {
   "cell_type": "code",
   "execution_count": 52,
   "metadata": {},
   "outputs": [
    {
     "name": "stdout",
     "output_type": "stream",
     "text": [
      "[[6 2 0 0 0]\n",
      " [4 3 2 0 0]\n",
      " [1 1 4 0 1]\n",
      " [0 0 0 1 0]\n",
      " [0 0 0 0 4]]\n",
      "              precision    recall  f1-score   support\n",
      "\n",
      "           0       0.55      0.75      0.63         8\n",
      "           1       0.50      0.33      0.40         9\n",
      "           2       0.67      0.57      0.62         7\n",
      "           3       1.00      1.00      1.00         1\n",
      "           4       0.80      1.00      0.89         4\n",
      "\n",
      "   micro avg       0.62      0.62      0.62        29\n",
      "   macro avg       0.70      0.73      0.71        29\n",
      "weighted avg       0.61      0.62      0.60        29\n",
      "\n"
     ]
    }
   ],
   "source": [
    "from sklearn.metrics import classification_report, confusion_matrix\n",
    "print(confusion_matrix(y_test, y_pred))\n",
    "print(classification_report(y_test, y_pred))"
   ]
  },
  {
   "cell_type": "code",
   "execution_count": null,
   "metadata": {},
   "outputs": [],
   "source": []
  }
 ],
 "metadata": {
  "kernelspec": {
   "display_name": "Python 3",
   "language": "python",
   "name": "python3"
  },
  "language_info": {
   "codemirror_mode": {
    "name": "ipython",
    "version": 3
   },
   "file_extension": ".py",
   "mimetype": "text/x-python",
   "name": "python",
   "nbconvert_exporter": "python",
   "pygments_lexer": "ipython3",
   "version": "3.7.3"
  }
 },
 "nbformat": 4,
 "nbformat_minor": 2
}
