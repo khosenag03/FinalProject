{
 "cells": [
  {
   "cell_type": "code",
   "execution_count": 55,
   "metadata": {},
   "outputs": [],
   "source": [
    "import matplotlib.pyplot as plt\n",
    "import numpy as np\n",
    "import sklearn\n",
    "import pandas as pd"
   ]
  },
  {
   "cell_type": "code",
   "execution_count": 56,
   "metadata": {},
   "outputs": [
    {
     "data": {
      "text/plain": [
       "(145, 14)"
      ]
     },
     "execution_count": 56,
     "metadata": {},
     "output_type": "execute_result"
    }
   ],
   "source": [
    "csv = \"recommendation.csv\"\n",
    "df = pd.read_csv(csv, encoding=\"ISO-8859-1\")\n",
    "df.shape"
   ]
  },
  {
   "cell_type": "code",
   "execution_count": 57,
   "metadata": {},
   "outputs": [],
   "source": [
    "new_df = df.drop(['Unnamed: 0'],axis=1)"
   ]
  },
  {
   "cell_type": "code",
   "execution_count": 58,
   "metadata": {},
   "outputs": [
    {
     "data": {
      "text/html": [
       "<div>\n",
       "<style scoped>\n",
       "    .dataframe tbody tr th:only-of-type {\n",
       "        vertical-align: middle;\n",
       "    }\n",
       "\n",
       "    .dataframe tbody tr th {\n",
       "        vertical-align: top;\n",
       "    }\n",
       "\n",
       "    .dataframe thead th {\n",
       "        text-align: right;\n",
       "    }\n",
       "</style>\n",
       "<table border=\"1\" class=\"dataframe\">\n",
       "  <thead>\n",
       "    <tr style=\"text-align: right;\">\n",
       "      <th></th>\n",
       "      <th>School Name</th>\n",
       "      <th>Starting Median Salary</th>\n",
       "      <th>Mid-Career Median Salary</th>\n",
       "      <th>Mid-Career 90th Percentile Salary</th>\n",
       "      <th>MORTGAGE</th>\n",
       "      <th>RENT</th>\n",
       "      <th>ELECTRICITY</th>\n",
       "      <th>GAS</th>\n",
       "      <th>EAT-IN</th>\n",
       "      <th>PHONE</th>\n",
       "      <th>HLTH &amp; WELL</th>\n",
       "      <th>VET</th>\n",
       "      <th>REGION</th>\n",
       "    </tr>\n",
       "  </thead>\n",
       "  <tbody>\n",
       "    <tr>\n",
       "      <th>0</th>\n",
       "      <td>University of Oklahoma</td>\n",
       "      <td>44700.0</td>\n",
       "      <td>82900.0</td>\n",
       "      <td>167000.0</td>\n",
       "      <td>247758.0</td>\n",
       "      <td>776.12</td>\n",
       "      <td>154.08</td>\n",
       "      <td>2.18</td>\n",
       "      <td>13.32</td>\n",
       "      <td>164.24</td>\n",
       "      <td>680.75</td>\n",
       "      <td>46.79</td>\n",
       "      <td>Southern</td>\n",
       "    </tr>\n",
       "    <tr>\n",
       "      <th>1</th>\n",
       "      <td>Oklahoma State University</td>\n",
       "      <td>42800.0</td>\n",
       "      <td>80700.0</td>\n",
       "      <td>151000.0</td>\n",
       "      <td>247758.0</td>\n",
       "      <td>776.12</td>\n",
       "      <td>154.08</td>\n",
       "      <td>2.18</td>\n",
       "      <td>13.32</td>\n",
       "      <td>164.24</td>\n",
       "      <td>680.75</td>\n",
       "      <td>46.79</td>\n",
       "      <td>Southern</td>\n",
       "    </tr>\n",
       "    <tr>\n",
       "      <th>2</th>\n",
       "      <td>University of Louisiana (UL) at Lafayette</td>\n",
       "      <td>41100.0</td>\n",
       "      <td>76300.0</td>\n",
       "      <td>163000.0</td>\n",
       "      <td>259903.0</td>\n",
       "      <td>814.16</td>\n",
       "      <td>183.42</td>\n",
       "      <td>2.50</td>\n",
       "      <td>14.38</td>\n",
       "      <td>195.52</td>\n",
       "      <td>654.49</td>\n",
       "      <td>48.02</td>\n",
       "      <td>Southern</td>\n",
       "    </tr>\n",
       "    <tr>\n",
       "      <th>3</th>\n",
       "      <td>University of Colorado   Denver</td>\n",
       "      <td>46100.0</td>\n",
       "      <td>84400.0</td>\n",
       "      <td>144000.0</td>\n",
       "      <td>463245.0</td>\n",
       "      <td>1451.00</td>\n",
       "      <td>156.76</td>\n",
       "      <td>2.75</td>\n",
       "      <td>14.37</td>\n",
       "      <td>167.10</td>\n",
       "      <td>790.34</td>\n",
       "      <td>55.28</td>\n",
       "      <td>Western</td>\n",
       "    </tr>\n",
       "    <tr>\n",
       "      <th>4</th>\n",
       "      <td>Regis University</td>\n",
       "      <td>48300.0</td>\n",
       "      <td>73800.0</td>\n",
       "      <td>117000.0</td>\n",
       "      <td>463245.0</td>\n",
       "      <td>1451.00</td>\n",
       "      <td>156.76</td>\n",
       "      <td>2.75</td>\n",
       "      <td>14.37</td>\n",
       "      <td>167.10</td>\n",
       "      <td>790.34</td>\n",
       "      <td>55.28</td>\n",
       "      <td>Western</td>\n",
       "    </tr>\n",
       "  </tbody>\n",
       "</table>\n",
       "</div>"
      ],
      "text/plain": [
       "                                 School Name  Starting Median Salary  \\\n",
       "0                     University of Oklahoma                 44700.0   \n",
       "1                  Oklahoma State University                 42800.0   \n",
       "2  University of Louisiana (UL) at Lafayette                 41100.0   \n",
       "3            University of Colorado   Denver                 46100.0   \n",
       "4                           Regis University                 48300.0   \n",
       "\n",
       "   Mid-Career Median Salary  Mid-Career 90th Percentile Salary  MORTGAGE  \\\n",
       "0                   82900.0                           167000.0  247758.0   \n",
       "1                   80700.0                           151000.0  247758.0   \n",
       "2                   76300.0                           163000.0  259903.0   \n",
       "3                   84400.0                           144000.0  463245.0   \n",
       "4                   73800.0                           117000.0  463245.0   \n",
       "\n",
       "      RENT  ELECTRICITY   GAS  EAT-IN   PHONE  HLTH & WELL    VET    REGION  \n",
       "0   776.12       154.08  2.18   13.32  164.24       680.75  46.79  Southern  \n",
       "1   776.12       154.08  2.18   13.32  164.24       680.75  46.79  Southern  \n",
       "2   814.16       183.42  2.50   14.38  195.52       654.49  48.02  Southern  \n",
       "3  1451.00       156.76  2.75   14.37  167.10       790.34  55.28   Western  \n",
       "4  1451.00       156.76  2.75   14.37  167.10       790.34  55.28   Western  "
      ]
     },
     "execution_count": 58,
     "metadata": {},
     "output_type": "execute_result"
    }
   ],
   "source": [
    "new_df.head()"
   ]
  },
  {
   "cell_type": "code",
   "execution_count": 63,
   "metadata": {},
   "outputs": [
    {
     "data": {
      "text/plain": [
       "School Name                           object\n",
       "Starting Median Salary               float64\n",
       "Mid-Career Median Salary             float64\n",
       "Mid-Career 90th Percentile Salary    float64\n",
       "MORTGAGE                             float64\n",
       "RENT                                 float64\n",
       "ELECTRICITY                          float64\n",
       "GAS                                  float64\n",
       "EAT-IN                               float64\n",
       "PHONE                                float64\n",
       "HLTH & WELL                          float64\n",
       "VET                                  float64\n",
       "REGION                                object\n",
       "dtype: object"
      ]
     },
     "execution_count": 63,
     "metadata": {},
     "output_type": "execute_result"
    }
   ],
   "source": [
    "X = new_df\n",
    "y = new_df\n",
    "\n",
    "X.dtypes"
   ]
  },
  {
   "cell_type": "code",
   "execution_count": 60,
   "metadata": {},
   "outputs": [
    {
     "name": "stdout",
     "output_type": "stream",
     "text": [
      "(116, 13) (116, 13)\n",
      "(29, 13) (29, 13)\n"
     ]
    }
   ],
   "source": [
    "from sklearn.model_selection import train_test_split\n",
    "X_train, X_test, y_train, y_test = train_test_split(X, y, test_size=0.20)\n",
    "\n",
    "print(X_train.shape, y_train.shape)\n",
    "print(X_test.shape, y_test.shape)\n",
    "\n"
   ]
  },
  {
   "cell_type": "code",
   "execution_count": 61,
   "metadata": {},
   "outputs": [],
   "source": [
    "n_users = new_df['School Name'].unique().shape[0]\n",
    "n_items = new_df.REGION.unique().shape[0]"
   ]
  },
  {
   "cell_type": "code",
   "execution_count": 62,
   "metadata": {},
   "outputs": [
    {
     "ename": "TypeError",
     "evalue": "unsupported operand type(s) for -: 'str' and 'int'",
     "output_type": "error",
     "traceback": [
      "\u001b[1;31m---------------------------------------------------------------------------\u001b[0m",
      "\u001b[1;31mTypeError\u001b[0m                                 Traceback (most recent call last)",
      "\u001b[1;32m<ipython-input-62-647341d0e397>\u001b[0m in \u001b[0;36m<module>\u001b[1;34m\u001b[0m\n\u001b[0;32m      2\u001b[0m \u001b[1;33m\u001b[0m\u001b[0m\n\u001b[0;32m      3\u001b[0m \u001b[1;32mfor\u001b[0m \u001b[0mline\u001b[0m \u001b[1;32min\u001b[0m \u001b[0mnew_df\u001b[0m\u001b[1;33m.\u001b[0m\u001b[0mitertuples\u001b[0m\u001b[1;33m(\u001b[0m\u001b[1;33m)\u001b[0m\u001b[1;33m:\u001b[0m\u001b[1;33m\u001b[0m\u001b[1;33m\u001b[0m\u001b[0m\n\u001b[1;32m----> 4\u001b[1;33m     \u001b[0mdata_matrix\u001b[0m\u001b[1;33m[\u001b[0m\u001b[0mline\u001b[0m\u001b[1;33m[\u001b[0m\u001b[1;36m1\u001b[0m\u001b[1;33m]\u001b[0m\u001b[1;33m-\u001b[0m\u001b[1;36m1\u001b[0m\u001b[1;33m,\u001b[0m \u001b[0mline\u001b[0m\u001b[1;33m[\u001b[0m\u001b[1;36m2\u001b[0m\u001b[1;33m]\u001b[0m\u001b[1;33m-\u001b[0m\u001b[1;36m1\u001b[0m\u001b[1;33m]\u001b[0m \u001b[1;33m=\u001b[0m \u001b[0mline\u001b[0m\u001b[1;33m[\u001b[0m\u001b[1;36m3\u001b[0m\u001b[1;33m]\u001b[0m\u001b[1;33m\u001b[0m\u001b[1;33m\u001b[0m\u001b[0m\n\u001b[0m",
      "\u001b[1;31mTypeError\u001b[0m: unsupported operand type(s) for -: 'str' and 'int'"
     ]
    }
   ],
   "source": [
    "data_matrix = np.zeros((n_users, n_items))\n",
    "\n",
    "for line in new_df.itertuples():\n",
    "    data_matrix[line[1]-1, line[2]-1] = line[3]"
   ]
  },
  {
   "cell_type": "code",
   "execution_count": null,
   "metadata": {},
   "outputs": [],
   "source": []
  }
 ],
 "metadata": {
  "kernelspec": {
   "display_name": "Python 3",
   "language": "python",
   "name": "python3"
  },
  "language_info": {
   "codemirror_mode": {
    "name": "ipython",
    "version": 3
   },
   "file_extension": ".py",
   "mimetype": "text/x-python",
   "name": "python",
   "nbconvert_exporter": "python",
   "pygments_lexer": "ipython3",
   "version": "3.7.3"
  }
 },
 "nbformat": 4,
 "nbformat_minor": 2
}
